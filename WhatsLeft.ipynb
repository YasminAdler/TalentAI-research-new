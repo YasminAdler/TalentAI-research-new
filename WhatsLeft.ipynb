{
 "cells": [
  {
   "cell_type": "markdown",
   "metadata": {},
   "source": [
    "### מה כבר נעשה:"
   ]
  },
  {
   "cell_type": "markdown",
   "metadata": {},
   "source": [
    "- 8 models - 4 for each distance function\n",
    "- division to subclusters based on the person's company \n",
    "- division for subclustes - the code is dividing to subclusters for: **2** distance functions, **1** cluster at a time, **1** dataset - the one with all attributes \n",
    "- calculate the center of the subclusters within each cluster : duplicate and accustome the centroid function to calculate the centers of the new subclusters\n",
    "- remove the company attribute from the subclusters rows \n",
    "- the frequency recieved from the get function is the same for dana's code and mine"
   ]
  },
  {
   "cell_type": "markdown",
   "metadata": {},
   "source": [
    "### משימות:"
   ]
  },
  {
   "cell_type": "markdown",
   "metadata": {},
   "source": [
    "- למצוא את התוצאות של הרצת האלגוריתם אצל דנהת לשמור אותן ולגרום לכך שהם לא שהגנטי לא ירוץ בכל הרצה V\n",
    "- לבנות את ה8 מודלים - 4 סטים כפול 2 פונקציות מרחק\n",
    "- לשמור כל train set וכל test set עבור כל מודל - 16 סטים \n",
    "- כתיבת פונקציית : query to input manipulation - שתמיר כל רשומה מקבוצת הtest עבור כל מודל לאינפוט תקין לאלגוריתם ההמלצה\n",
    "- פתיחת אקסל לכל מודל בנפרד\n",
    "- הרצה של אלגוריתם ההרצה על כל מודל ותיעוד התוצאות ישירות לאקסל "
   ]
  },
  {
   "cell_type": "markdown",
   "metadata": {},
   "source": [
    "### שאלות: \n",
    "1. באיזה חלק מורידים את עמודת ה\"חברה\" כדי שנוכל לבצע בדיקה של אלגוריתם ההמלצה"
   ]
  }
 ],
 "metadata": {
  "language_info": {
   "name": "python"
  }
 },
 "nbformat": 4,
 "nbformat_minor": 2
}
