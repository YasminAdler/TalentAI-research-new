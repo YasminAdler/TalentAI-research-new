{
 "cells": [
  {
   "cell_type": "code",
   "execution_count": 1,
   "id": "20122f0b",
   "metadata": {},
   "outputs": [],
   "source": [
    "import pandas as pd, numpy as np, seaborn as sns, matplotlib.pyplot as plt\n",
    "import statsmodels.api as sm                      # <– NEW\n"
   ]
  },
  {
   "cell_type": "code",
   "execution_count": 2,
   "id": "9ade66be",
   "metadata": {},
   "outputs": [],
   "source": [
    "def compute_slope_table(long_df, min_points=5):\n",
    "    \"\"\"\n",
    "    Fit Rank = β0 + β1 * Records  (OLS)\n",
    "    Returns a DataFrame with β1 per company & method.\n",
    "    \"\"\"\n",
    "    out = []\n",
    "    for (cmp, mth), g in long_df.groupby(['company', 'method']):\n",
    "        g = g.dropna(subset=['records_in_cluster', 'rank'])\n",
    "        if len(g) < min_points:\n",
    "            continue                       # not enough data\n",
    "        X = sm.add_constant(g['records_in_cluster'])\n",
    "        model = sm.OLS(g['rank'], X).fit()\n",
    "        out.append({\n",
    "            'company': cmp,\n",
    "            'method' : mth,\n",
    "            'slope'  : model.params[1],    # β1\n",
    "            'pvalue' : model.pvalues[1],\n",
    "            'n'      : len(g)\n",
    "        })\n",
    "    return pd.DataFrame(out)\n"
   ]
  },
  {
   "cell_type": "code",
   "execution_count": 3,
   "id": "ec35ad95",
   "metadata": {},
   "outputs": [],
   "source": [
    "def plot_slope_bars(slope_df):\n",
    "    if slope_df.empty:\n",
    "        print(\"🚫  No slope data.\")\n",
    "        return\n",
    "    \n",
    "    # sort so most negative (strong effect) on one side\n",
    "    slope_df = slope_df.sort_values('slope')\n",
    "    \n",
    "    plt.figure(figsize=(14,6))\n",
    "    ax = sns.barplot(data=slope_df,\n",
    "                     x='company', y='slope', hue='method',\n",
    "                     palette='coolwarm')\n",
    "    \n",
    "    ax.axhline(0, color='gray', ls='--')\n",
    "    ax.set_ylabel('OLS slope  β₁  (records → rank)')\n",
    "    ax.set_xlabel('')\n",
    "    ax.set_title('Effect of Cluster Size on Rank')\n",
    "    plt.xticks(rotation=45, ha='right')\n",
    "    \n",
    "    # annotate slope & significance\n",
    "    for p in ax.patches:\n",
    "        cmp = p.get_x() + p.get_width()/2\n",
    "        val = p.get_height()\n",
    "        ax.annotate(f'{val:+.2f}',\n",
    "                    (cmp, val),\n",
    "                    ha='center', va='bottom', fontsize=8)\n",
    "    plt.tight_layout()\n",
    "    plt.show()\n"
   ]
  },
  {
   "cell_type": "code",
   "execution_count": 4,
   "id": "0319191d",
   "metadata": {},
   "outputs": [
    {
     "ename": "NameError",
     "evalue": "name 'long_df' is not defined",
     "output_type": "error",
     "traceback": [
      "\u001b[31m---------------------------------------------------------------------------\u001b[39m",
      "\u001b[31mNameError\u001b[39m                                 Traceback (most recent call last)",
      "\u001b[36mCell\u001b[39m\u001b[36m \u001b[39m\u001b[32mIn[4]\u001b[39m\u001b[32m, line 1\u001b[39m\n\u001b[32m----> \u001b[39m\u001b[32m1\u001b[39m slope_df = compute_slope_table(\u001b[43mlong_df\u001b[49m)\n\u001b[32m      2\u001b[39m display(slope_df.head())          \u001b[38;5;66;03m# optional table\u001b[39;00m\n\u001b[32m      3\u001b[39m plot_slope_bars(slope_df)\n",
      "\u001b[31mNameError\u001b[39m: name 'long_df' is not defined"
     ]
    }
   ],
   "source": [
    "slope_df = compute_slope_table(long_df)\n",
    "display(slope_df.head())          # optional table\n",
    "plot_slope_bars(slope_df)\n"
   ]
  }
 ],
 "metadata": {
  "kernelspec": {
   "display_name": ".venv",
   "language": "python",
   "name": "python3"
  },
  "language_info": {
   "codemirror_mode": {
    "name": "ipython",
    "version": 3
   },
   "file_extension": ".py",
   "mimetype": "text/x-python",
   "name": "python",
   "nbconvert_exporter": "python",
   "pygments_lexer": "ipython3",
   "version": "3.11.9"
  }
 },
 "nbformat": 4,
 "nbformat_minor": 5
}
